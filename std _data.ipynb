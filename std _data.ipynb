{
 "cells": [
  {
   "cell_type": "code",
   "execution_count": 1,
   "id": "b1dc377e-92ce-44fd-9a18-9d816749d7e8",
   "metadata": {},
   "outputs": [],
   "source": [
    "import csv\n",
    "var = open(\"student data.csv\", mode =\"r\")\n",
    "reader = csv.reader(var)\n",
    "data = list(reader)"
   ]
  },
  {
   "cell_type": "code",
   "execution_count": 2,
   "id": "f486ab3a-3bfa-4b5c-92ff-d5cd82df763b",
   "metadata": {},
   "outputs": [
    {
     "name": "stdout",
     "output_type": "stream",
     "text": [
      "[['101', 'Aliza', '50', '23', '87', 53.33], ['102', 'Fareed', '45', '24', '88', 52.33], ['103', 'Basit', '46', '25', '89', 53.33], ['104', 'Abdullah', '47', '26', '90', 54.33], ['105', 'Ali', '48', '27', '67', 47.33], ['106', 'Mubashir', '49', '28', '68', 48.33], ['107', 'Waleed', '50', '29', '69', 49.33], ['108', 'Mansoor', '51', '30', '70', 50.33], ['109', 'Zain', '52', '31', '71', 51.33], ['110', 'Mohsin', '53', '67', '72', 64.0], ['111', 'Shahmeer', '54', '68', '73', 65.0], ['112', 'Rao', '55', '69', '74', 66.0], ['113', 'Aurangzeb', '56', '70', '75', 67.0], ['114', 'Zeeshan', '57', '71', '76', 68.0], ['115', 'Hamna', '58', '72', '77', 69.0], ['116', 'Hamza', '59', '73', '78', 70.0], ['117', 'Khalid', '60', '74', '79', 71.0], ['118', 'Behroz', '61', '75', '80', 72.0], ['119', 'Justin', '62', '76', '81', 73.0], ['120', 'Danish', '63', '77', '82', 74.0], ['121', 'Kainat', '64', '78', '83', 75.0], ['122', 'Sameer', '65', '79', '84', 76.0], ['123', 'Raza', '66', '80', '85', 77.0], ['124', 'Kumar', '67', '81', '86', 78.0], ['125', 'Komal', '68', '82', '87', 79.0], ['126', 'Erum', '69', '83', '88', 80.0], ['127', 'Faiza', '70', '84', '89', 81.0], ['128', 'Saeed', '71', '85', '90', 82.0], ['129', 'Waqar', '72', '86', '91', 83.0], ['130', 'Wali', '73', '87', '92', 84.0], ['131', 'Wajid', '74', '88', '93', 85.0], ['132', 'Waseeb', '75', '89', '94', 86.0], ['133', 'Shiza', '76', '90', '95', 87.0], ['134', 'Shabina', '77', '91', '96', 88.0], ['135', 'Shazain', '78', '55', '97', 76.67], ['136', 'Lubna', '79', '61', '98', 79.33], ['137', 'Laiba', '80', '88', '78', 82.0], ['138', 'Khursheed', '81', '56', '45', 60.67], ['139', 'Ali', '82', '89', '46', 72.33], ['140', 'Aiza', '83', '45', '89', 72.33], ['141', 'Aiman', '84', '92', '78', 84.67], ['142', 'Yasmeen', '85', '36', '56', 59.0], ['143', 'Tasbeel', '86', '78', '78', 80.67], ['144', 'Laraib', '87', '56', '54', 65.67], ['145', 'Saleem', '88', '78', '78', 81.33], ['146', 'Bismil', '89', '89', '46', 74.67], ['147', 'Batool', '90', '56', '79', 75.0], ['148', 'Iqra', '91', '33', '46', 56.67], ['149', 'Zarnish', '92', '78', '45', 71.67], ['150', 'Zara', '83', '45', '56', 61.33]]\n"
     ]
    }
   ],
   "source": [
    "header = data[0]\n",
    "body = data[1:]\n",
    "for a in body:\n",
    "    chem = int(a[2])\n",
    "    phy = int(a[3])\n",
    "    math = int(a[4])\n",
    "    per = round((chem+phy+math)/300*100,2)\n",
    "    a.append(per)\n",
    "print(body)\n",
    "\n",
    "header.append(\"percentage\")"
   ]
  },
  {
   "cell_type": "code",
   "execution_count": 3,
   "id": "e7e05708-ad1d-4fab-976e-0b7bab4a34b2",
   "metadata": {},
   "outputs": [],
   "source": [
    "sum_chem = 0\n",
    "sum_phy = 0\n",
    "sum_math = 0\n",
    "sum_avg = 0\n",
    "count = len(body)\n",
    "# print(count)\n",
    "for a in body:\n",
    "    sum_chem = int(a[2]) + sum_chem\n",
    "    sum_phy = int(a[3]) + sum_phy\n",
    "    sum_math = int(a[4]) + sum_math\n",
    "    sum_avg = int(a[5]) + sum_avg\n"
   ]
  },
  {
   "cell_type": "code",
   "execution_count": 4,
   "id": "179a1a11-1d80-4e60-8806-5373e49107b8",
   "metadata": {},
   "outputs": [],
   "source": [
    "avg_chem = sum_chem/count\n",
    "avg_phy = sum_phy/count\n",
    "avg_maht = sum_math/count\n",
    "sum_avg =sum_avg/count\n"
   ]
  },
  {
   "cell_type": "code",
   "execution_count": 5,
   "id": "723b289c-aa02-46ae-b949-3c36725e79b0",
   "metadata": {},
   "outputs": [],
   "source": [
    "body.append([\"\", \"average\", avg_chem, avg_phy, avg_maht,sum_avg])\n"
   ]
  },
  {
   "cell_type": "code",
   "execution_count": 6,
   "id": "a7590324-6b6f-40a0-bfe5-d65a29e23a7e",
   "metadata": {},
   "outputs": [
    {
     "name": "stdout",
     "output_type": "stream",
     "text": [
      "updated\n"
     ]
    }
   ],
   "source": [
    "file = open(\"new data1.csv\", mode= 'w', newline='')\n",
    "writer = csv.writer(file)\n",
    "writer.writerow(header)\n",
    "writer.writerows(body)\n",
    "file.close()\n",
    "print(\"updated\")"
   ]
  }
 ],
 "metadata": {
  "kernelspec": {
   "display_name": "Python 3 (ipykernel)",
   "language": "python",
   "name": "python3"
  },
  "language_info": {
   "codemirror_mode": {
    "name": "ipython",
    "version": 3
   },
   "file_extension": ".py",
   "mimetype": "text/x-python",
   "name": "python",
   "nbconvert_exporter": "python",
   "pygments_lexer": "ipython3",
   "version": "3.12.4"
  }
 },
 "nbformat": 4,
 "nbformat_minor": 5
}
